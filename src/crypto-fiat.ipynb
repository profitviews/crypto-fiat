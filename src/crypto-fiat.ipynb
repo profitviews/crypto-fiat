{
 "cells": [
  {
   "cell_type": "code",
   "execution_count": 1,
   "metadata": {},
   "outputs": [],
   "source": [
    "import venues"
   ]
  },
  {
   "cell_type": "code",
   "execution_count": null,
   "metadata": {},
   "outputs": [],
   "source": [
    "from dotenv import load_dotenv\n",
    "from pathlib import Path\n",
    "import os\n",
    "\n",
    "# `dotenv` is a package that loads environment variables from a `.env` file into the environment.\n",
    "# It is used to store sensitive information like API keys in a file that is not checked into version control.\n",
    "# The `.env` file is not checked into version control, so it is not included in the repository.\n",
    "# The `.env` file is created by the user and contains the API keys for the various services used in the project.\n",
    "# See https://pypi.org/project/python-dotenv/ for more information.\n",
    "\n",
    "env_path = Path.cwd() / '.env'  # Adjust this path as needed\n",
    "print(env_path)\n",
    "load_dotenv(env_path)"
   ]
  },
  {
   "cell_type": "code",
   "execution_count": null,
   "metadata": {},
   "outputs": [],
   "source": [
    "ALPACA_API_KEY=os.getenv('ALPACA_API_KEY')\n",
    "ALPACA_API_SECRET=os.getenv('ALPACA_API_SECRET')\n",
    "ALPACA_PAPER_API_KEY=os.getenv('ALPACA_PAPER_API_KEY')\n",
    "ALPACA_PAPER_API_SECRET=os.getenv('ALPACA_PAPER_API_SECRET')"
   ]
  },
  {
   "cell_type": "code",
   "execution_count": null,
   "metadata": {},
   "outputs": [],
   "source": [
    "w = venues.Alpaca(None, ALPACA_API_KEY, ALPACA_API_SECRET, trading_endpoint='https://api.alpaca.markets', data_endpoint='https://data.alpaca.markets')\n",
    "w.standard_size('IBIT', 100)\n",
    "w.mark_price('AAPL')"
   ]
  },
  {
   "cell_type": "code",
   "execution_count": 7,
   "metadata": {},
   "outputs": [],
   "source": [
    "import requests\n",
    "h = {}"
   ]
  },
  {
   "cell_type": "code",
   "execution_count": null,
   "metadata": {},
   "outputs": [],
   "source": [
    "h['APCA-API-KEY-ID'] = ALPACA_PAPER_API_KEY\n",
    "h['APCA-API-SECRET-KEY'] = ALPACA_PAPER_API_SECRET\n",
    "pricing_endpoint = 'https://data.alpaca.markets/v2/stocks/AAPL/quotes/latest'\n",
    "h['Content-Type'] = 'application/json'\n",
    "response = requests.get(pricing_endpoint, headers=h)\n",
    "response.raise_for_status()\n",
    "data = response.json()\n"
   ]
  },
  {
   "cell_type": "code",
   "execution_count": null,
   "metadata": {},
   "outputs": [],
   "source": [
    "try:\n",
    "    url = w.pricing_endpoint.format(symbol='IBIT')\n",
    "    response = requests.get(url, headers=w.HEADERS)\n",
    "    response.raise_for_status()\n",
    "    quote = response.json()\n",
    "    print(\"Latest quote for IBIT:\", quote)\n",
    "except Exception as e:\n",
    "    print(\"Error fetching latest quote for IBIT:\", e)\n"
   ]
  },
  {
   "cell_type": "code",
   "execution_count": null,
   "metadata": {},
   "outputs": [],
   "source": [
    "try:\n",
    "    ibit_quote_url = w.pricing_endpoint.format(symbol=\"IBIT\")\n",
    "    print(\"Fetching IBIT quote from:\", ibit_quote_url)\n",
    "    response = requests.get(ibit_quote_url, headers=w.HEADERS)\n",
    "    response.raise_for_status()\n",
    "    ibit_quote = response.json()\n",
    "    print(\"IBIT Quote:\", ibit_quote)\n",
    "except Exception as e:\n",
    "    print(\"Error fetching IBIT quote:\", e)\n"
   ]
  },
  {
   "cell_type": "code",
   "execution_count": 27,
   "metadata": {},
   "outputs": [],
   "source": [
    "# OANDA API Credentials\n",
    "OANDA_API_URL = os.getenv(\"OANDA_API_PRACTICE_URL\")  # Use \"api-fxtrade.oanda.com\" for live trading\n",
    "OANDA_API_KEY = os.getenv(\"OANDA_DEMO_API_KEY\")\n",
    "OANDA_ACCOUNT_ID = os.getenv(\"OANDA_DEMO_ACCOUNT_ID\")"
   ]
  },
  {
   "cell_type": "code",
   "execution_count": null,
   "metadata": {},
   "outputs": [],
   "source": [
    "v = venues.OANDA(None, OANDA_ACCOUNT_ID, OANDA_API_KEY, endpoint='https://api-fxpractice.oanda.com')"
   ]
  },
  {
   "cell_type": "code",
   "execution_count": null,
   "metadata": {},
   "outputs": [],
   "source": [
    "v.lot('EUR_USD')"
   ]
  },
  {
   "cell_type": "code",
   "execution_count": null,
   "metadata": {},
   "outputs": [],
   "source": [
    "v.mark_price('EUR_USD')"
   ]
  },
  {
   "cell_type": "code",
   "execution_count": null,
   "metadata": {},
   "outputs": [],
   "source": [
    "v.standard_size('EUR_USD', 100)"
   ]
  },
  {
   "cell_type": "code",
   "execution_count": null,
   "metadata": {},
   "outputs": [],
   "source": [
    "v.mark_price('USD_JPY')"
   ]
  },
  {
   "cell_type": "code",
   "execution_count": null,
   "metadata": {},
   "outputs": [],
   "source": [
    "v.place_order('EUR_USD', 'sell', 100)"
   ]
  },
  {
   "cell_type": "code",
   "execution_count": null,
   "metadata": {},
   "outputs": [],
   "source": [
    "v.get_instruments()"
   ]
  }
 ],
 "metadata": {
  "kernelspec": {
   "display_name": "crypto-fiat",
   "language": "python",
   "name": "python3"
  },
  "language_info": {
   "codemirror_mode": {
    "name": "ipython",
    "version": 3
   },
   "file_extension": ".py",
   "mimetype": "text/x-python",
   "name": "python",
   "nbconvert_exporter": "python",
   "pygments_lexer": "ipython3",
   "version": "3.9.15"
  }
 },
 "nbformat": 4,
 "nbformat_minor": 2
}
