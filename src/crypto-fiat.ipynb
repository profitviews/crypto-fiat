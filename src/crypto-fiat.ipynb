{
 "cells": [
  {
   "cell_type": "code",
   "execution_count": 5,
   "metadata": {},
   "outputs": [],
   "source": [
    "ALPACA_API_KEY='AKVRQQWFEUUZQU4R079F'\n",
    "ALPACA_API_SECRET='5Vl9BF8o1S6JJ3sZ1b539dCD6o5MeY5S2P4GCri4'\n",
    "ALPACA_PAPER_API_KEY='PKXXHBHK7HI1DWXK26XD'\n",
    "ALPACA_PAPER_API_SECRET='P8SYsBnZTAyKtmPGtDzPkoDokEFrCkUGZtwHwo2p'\n"
   ]
  },
  {
   "cell_type": "code",
   "execution_count": null,
   "metadata": {},
   "outputs": [],
   "source": [
    "w = venues.Alpaca(None, ALPACA_API_KEY, ALPACA_API_SECRET, trading_endpoint='https://api.alpaca.markets', data_endpoint='https://data.alpaca.markets')\n",
    "w.standard_size('IBIT', 100)\n",
    "w.get_mark_price('AAPL')"
   ]
  },
  {
   "cell_type": "code",
   "execution_count": 5,
   "metadata": {},
   "outputs": [],
   "source": [
    "import requests\n",
    "h = {}"
   ]
  },
  {
   "cell_type": "code",
   "execution_count": null,
   "metadata": {},
   "outputs": [],
   "source": [
    "h['APCA-API-KEY-ID'] = ALPACA_PAPER_API_KEY\n",
    "h['APCA-API-SECRET-KEY'] = ALPACA_PAPER_API_SECRET\n",
    "pricing_endpoint = 'https://data.alpaca.markets/v2/stocks/AAPL/quotes/latest'\n",
    "h['Content-Type'] = 'application/json'\n",
    "response = requests.get(pricing_endpoint, headers=h)\n",
    "response.raise_for_status()\n",
    "data = response.json()\n"
   ]
  },
  {
   "cell_type": "code",
   "execution_count": null,
   "metadata": {},
   "outputs": [],
   "source": [
    "\n",
    "data['quote']"
   ]
  },
  {
   "cell_type": "code",
   "execution_count": null,
   "metadata": {},
   "outputs": [],
   "source": [
    "instruments = [\n",
    "            {\n",
    "                'symbol': i['symbol'],\n",
    "                'tickSize': 0.01,  # Alpaca typically supports decimal precision\n",
    "                'lotSize': 1  # Alpaca uses whole shares\n",
    "            }\n",
    "            for i in data if i['tradable']\n",
    "        ]"
   ]
  },
  {
   "cell_type": "code",
   "execution_count": null,
   "metadata": {},
   "outputs": [],
   "source": [
    "ibit = next((inst for inst in instruments if inst.get('symbol') == 'IBIT'), None)\n",
    "if ibit:\n",
    "    print(\"Found IBIT:\", ibit)\n",
    "else:\n",
    "    print(\"IBIT not found in instruments.\")\n"
   ]
  },
  {
   "cell_type": "code",
   "execution_count": null,
   "metadata": {},
   "outputs": [],
   "source": [
    "try:\n",
    "    url = w.pricing_endpoint.format(symbol='IBIT')\n",
    "    response = requests.get(url, headers=w.HEADERS)\n",
    "    response.raise_for_status()\n",
    "    quote = response.json()\n",
    "    print(\"Latest quote for IBIT:\", quote)\n",
    "except Exception as e:\n",
    "    print(\"Error fetching latest quote for IBIT:\", e)\n"
   ]
  },
  {
   "cell_type": "code",
   "execution_count": null,
   "metadata": {},
   "outputs": [],
   "source": [
    "try:\n",
    "    ibit_quote_url = w.pricing_endpoint.format(symbol=\"IBIT\")\n",
    "    print(\"Fetching IBIT quote from:\", ibit_quote_url)\n",
    "    response = requests.get(ibit_quote_url, headers=w.HEADERS)\n",
    "    response.raise_for_status()\n",
    "    ibit_quote = response.json()\n",
    "    print(\"IBIT Quote:\", ibit_quote)\n",
    "except Exception as e:\n",
    "    print(\"Error fetching IBIT quote:\", e)\n"
   ]
  },
  {
   "cell_type": "code",
   "execution_count": 1,
   "metadata": {},
   "outputs": [],
   "source": [
    "# OANDA API Credentials\n",
    "OANDA_API_URL = \"api-fxpractice.oanda.com\"  # Use \"api-fxtrade.oanda.com\" for live trading\n",
    "OANDA_API_KEY = \"26dff4c169274d8fd3fa9c3541089855-c6d8f375990b71e93213d76b74c3dd82\"  # Practice account\n",
    "OANDA_ACCOUNT_ID = \"101-004-30988778-001\""
   ]
  },
  {
   "cell_type": "code",
   "execution_count": 2,
   "metadata": {},
   "outputs": [],
   "source": [
    "import venues"
   ]
  },
  {
   "cell_type": "code",
   "execution_count": null,
   "metadata": {},
   "outputs": [],
   "source": [
    "v = venues.OANDA(None, OANDA_ACCOUNT_ID, OANDA_API_KEY, endpoint='https://api-fxpractice.oanda.com')"
   ]
  },
  {
   "cell_type": "code",
   "execution_count": null,
   "metadata": {},
   "outputs": [],
   "source": [
    "v.lot('EUR_USD')"
   ]
  },
  {
   "cell_type": "code",
   "execution_count": null,
   "metadata": {},
   "outputs": [],
   "source": [
    "v.mark_price('EUR_USD')"
   ]
  },
  {
   "cell_type": "code",
   "execution_count": null,
   "metadata": {},
   "outputs": [],
   "source": [
    "v.standard_size('EUR_USD', 1000)"
   ]
  },
  {
   "cell_type": "code",
   "execution_count": null,
   "metadata": {},
   "outputs": [],
   "source": [
    "v.mark_price('USD_JPY')"
   ]
  },
  {
   "cell_type": "code",
   "execution_count": null,
   "metadata": {},
   "outputs": [],
   "source": [
    "v.place_order('EUR_USD', 'sell', 100)"
   ]
  },
  {
   "cell_type": "code",
   "execution_count": null,
   "metadata": {},
   "outputs": [],
   "source": [
    "v.get_instruments()"
   ]
  },
  {
   "cell_type": "code",
   "execution_count": null,
   "metadata": {},
   "outputs": [],
   "source": []
  }
 ],
 "metadata": {
  "kernelspec": {
   "display_name": "crypto-fiat",
   "language": "python",
   "name": "python3"
  },
  "language_info": {
   "codemirror_mode": {
    "name": "ipython",
    "version": 3
   },
   "file_extension": ".py",
   "mimetype": "text/x-python",
   "name": "python",
   "nbconvert_exporter": "python",
   "pygments_lexer": "ipython3",
   "version": "3.9.15"
  }
 },
 "nbformat": 4,
 "nbformat_minor": 2
}
